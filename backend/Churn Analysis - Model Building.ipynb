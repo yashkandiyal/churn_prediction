{
 "cells": [
  {
   "cell_type": "code",
   "execution_count": 1,
   "metadata": {},
   "outputs": [],
   "source": [
    "import pandas as pd\n",
    "from imblearn.combine import SMOTEENN\n",
    "from sklearn.model_selection import train_test_split, RandomizedSearchCV\n",
    "from sklearn.ensemble import RandomForestClassifier\n",
    "from sklearn.calibration import CalibratedClassifierCV\n",
    "from sklearn.metrics import classification_report, confusion_matrix\n",
    "from scipy.stats import randint\n",
    "import pickle\n"
   ]
  },
  {
   "cell_type": "code",
   "execution_count": 2,
   "metadata": {},
   "outputs": [],
   "source": [
    "# ------------------------------------------------------------------\n",
    "# 1. Load & prep\n",
    "# ------------------------------------------------------------------\n",
    "df = pd.read_csv(\"tel_churn.csv\").drop(columns=[\"Unnamed: 0\"])\n",
    "X = df.drop(\"Churn\", axis=1)\n",
    "y = df[\"Churn\"]\n",
    "feature_names = X.columns"
   ]
  },
  {
   "cell_type": "code",
   "execution_count": 3,
   "metadata": {},
   "outputs": [],
   "source": [
    "# ------------------------------------------------------------------\n",
    "# 2. Re-sampling (SMOTE-ENN)\n",
    "# ------------------------------------------------------------------\n",
    "X_res, y_res = SMOTEENN(random_state=100).fit_resample(X, y)"
   ]
  },
  {
   "cell_type": "code",
   "execution_count": 4,
   "metadata": {},
   "outputs": [],
   "source": [
    "# ------------------------------------------------------------------\n",
    "# 3. Stratified split\n",
    "# ------------------------------------------------------------------\n",
    "X_train, X_test, y_train, y_test = train_test_split(\n",
    "    X_res, y_res,\n",
    "    test_size=0.20,\n",
    "    stratify=y_res,\n",
    "    random_state=100\n",
    ")"
   ]
  },
  {
   "cell_type": "code",
   "execution_count": 5,
   "metadata": {},
   "outputs": [],
   "source": [
    "# ------------------------------------------------------------------\n",
    "# 4-A.  Base RF model\n",
    "# ------------------------------------------------------------------\n",
    "rf_base = RandomForestClassifier(\n",
    "    n_estimators=400,\n",
    "    max_depth=None,          # unlimited\n",
    "    min_samples_leaf=2,      # finer leaves\n",
    "    class_weight=\"balanced_subsample\",\n",
    "    random_state=100,\n",
    "    n_jobs=-1,\n",
    "    oob_score=True\n",
    ")"
   ]
  },
  {
   "cell_type": "code",
   "execution_count": 6,
   "metadata": {},
   "outputs": [],
   "source": [
    "# ------------------------------------------------------------------\n",
    "# 4-B.  Quick hyper-tune\n",
    "# ------------------------------------------------------------------\n",
    "param_grid = {\n",
    "    \"n_estimators\": randint(300, 800),\n",
    "    \"max_depth\":    randint(10, 25),      # allow deeper trees\n",
    "    \"min_samples_leaf\": randint(1, 6)\n",
    "}\n",
    "\n",
    "\n",
    "search = RandomizedSearchCV(\n",
    "    rf_base, param_grid, n_iter=25,\n",
    "    scoring=\"f1\", cv=3,\n",
    "    n_jobs=-1, random_state=100, verbose=0\n",
    ").fit(X_train, y_train)\n",
    "\n",
    "rf_best = search.best_estimator_"
   ]
  },
  {
   "cell_type": "code",
   "execution_count": 7,
   "metadata": {},
   "outputs": [],
   "source": [
    "# ------------------------------------------------------------------\n",
    "# 4-C.  Probability calibration (isotonic)\n",
    "# ------------------------------------------------------------------\n",
    "cal_rf = CalibratedClassifierCV(\n",
    "    estimator=rf_best,\n",
    "    method=\"sigmoid\",    # ← change here\n",
    "    cv=3\n",
    ").fit(X_train, y_train)"
   ]
  },
  {
   "cell_type": "code",
   "execution_count": 8,
   "metadata": {},
   "outputs": [
    {
     "name": "stdout",
     "output_type": "stream",
     "text": [
      "\n",
      "==  Calibrated Random-Forest  ==\n",
      "Accuracy : 0.9547\n",
      "\n",
      "Classification report\n",
      "               precision    recall  f1-score   support\n",
      "\n",
      "           0       0.96      0.94      0.95       528\n",
      "           1       0.95      0.97      0.96       643\n",
      "\n",
      "    accuracy                           0.95      1171\n",
      "   macro avg       0.96      0.95      0.95      1171\n",
      "weighted avg       0.95      0.95      0.95      1171\n",
      "\n",
      "Confusion matrix\n",
      " [[496  32]\n",
      " [ 21 622]]\n",
      "\n",
      "✔  Calibrated model saved to model.sav\n"
     ]
    }
   ],
   "source": [
    "# ------------------------------------------------------------------\n",
    "# 5.  Evaluation on hold-out test set\n",
    "# ------------------------------------------------------------------\n",
    "print(f\"\\n==  Calibrated Random-Forest  ==\")\n",
    "print(f\"Accuracy : {cal_rf.score(X_test, y_test):.4f}\")\n",
    "\n",
    "y_pred = cal_rf.predict(X_test)\n",
    "print(\"\\nClassification report\\n\", classification_report(y_test, y_pred))\n",
    "print(\"Confusion matrix\\n\",      confusion_matrix(y_test, y_pred))\n",
    "\n",
    "# ------------------------------------------------------------------\n",
    "# 6.  Persist calibrated model + feature order\n",
    "# ------------------------------------------------------------------\n",
    "with open(\"model.sav\", \"wb\") as f:\n",
    "    pickle.dump((cal_rf, feature_names), f)\n",
    "\n",
    "print(\"\\n✔  Calibrated model saved to model.sav\")"
   ]
  }
 ],
 "metadata": {
  "kernelspec": {
   "display_name": "venv",
   "language": "python",
   "name": "python3"
  },
  "language_info": {
   "codemirror_mode": {
    "name": "ipython",
    "version": 3
   },
   "file_extension": ".py",
   "mimetype": "text/x-python",
   "name": "python",
   "nbconvert_exporter": "python",
   "pygments_lexer": "ipython3",
   "version": "3.12.3"
  }
 },
 "nbformat": 4,
 "nbformat_minor": 4
}
