{
 "cells": [
  {
   "cell_type": "code",
   "execution_count": 1,
   "metadata": {},
   "outputs": [],
   "source": [
    "import pandas as pd\n",
    "from imblearn.combine import SMOTEENN\n",
    "from sklearn.model_selection import train_test_split\n",
    "from sklearn.ensemble import RandomForestClassifier\n",
    "import pickle\n",
    "\n",
    "# Load your cleaned, one-hot encoded dataset\n",
    "df = pd.read_csv(\"tel_churn.csv\")\n",
    "df = df.drop('Unnamed: 0', axis=1)\n",
    "\n",
    "# Separate features and target\n",
    "x = df.drop('Churn', axis=1)\n",
    "y = df['Churn']\n",
    "\n",
    "# Save the column names BEFORE resampling\n",
    "model_columns = x.columns\n",
    "\n",
    "# Balance the dataset\n",
    "sm = SMOTEENN()\n",
    "X_resampled, y_resampled = sm.fit_resample(x, y)\n",
    "\n",
    "# Split resampled data\n",
    "xr_train, xr_test, yr_train, yr_test = train_test_split(\n",
    "    X_resampled, y_resampled, test_size=0.2, random_state=100\n",
    ")\n",
    "\n",
    "# Train the model\n",
    "model_rf_smote = RandomForestClassifier(\n",
    "    n_estimators=100, criterion='gini', random_state=100,\n",
    "    max_depth=6, min_samples_leaf=8\n",
    ")\n",
    "model_rf_smote.fit(xr_train, yr_train)\n",
    "\n",
    "# ✅ Save both the model and the training feature names\n",
    "with open(\"model.sav\", \"wb\") as f:\n",
    "    pickle.dump((model_rf_smote, model_columns), f)\n"
   ]
  }
 ],
 "metadata": {
  "kernelspec": {
   "display_name": "venv",
   "language": "python",
   "name": "python3"
  },
  "language_info": {
   "codemirror_mode": {
    "name": "ipython",
    "version": 3
   },
   "file_extension": ".py",
   "mimetype": "text/x-python",
   "name": "python",
   "nbconvert_exporter": "python",
   "pygments_lexer": "ipython3",
   "version": "3.12.3"
  }
 },
 "nbformat": 4,
 "nbformat_minor": 4
}
